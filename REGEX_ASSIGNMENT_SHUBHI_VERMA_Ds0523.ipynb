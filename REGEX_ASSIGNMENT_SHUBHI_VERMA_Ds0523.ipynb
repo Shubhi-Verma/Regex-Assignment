{
 "cells": [
  {
   "cell_type": "markdown",
   "id": "9b4bcbd9",
   "metadata": {},
   "source": [
    "# Question 1: Write a Python program to replace all occurrences of a space, comma, or dot with a colon.\n",
    "Sample Text- 'Python Exercises, PHP exercises.'\n",
    "Expected Output: Python:Exercises::PHP:exercises:"
   ]
  },
  {
   "cell_type": "code",
   "execution_count": 1,
   "id": "9866e826",
   "metadata": {},
   "outputs": [
    {
     "name": "stdout",
     "output_type": "stream",
     "text": [
      "Python:Exercises::PHP:exercises:\n"
     ]
    }
   ],
   "source": [
    "import re\n",
    "text = 'Python Exercises, PHP exercises.'\n",
    "print(re.sub(\"[ ,.]\", \":\", text))"
   ]
  },
  {
   "cell_type": "markdown",
   "id": "67bf7d4b",
   "metadata": {},
   "source": [
    "# Question 2-  Create a dataframe using the dictionary below and remove everything (commas (,), !, XXXX, ;, etc.) from the columns except words.\n",
    "Dictionary- {'SUMMARY' : ['hello, world!', 'XXXXX test', '123four, five:; six...']}\n",
    "Expected output-\n",
    "0      hello world\n",
    "1             test\n",
    "2    four five six"
   ]
  },
  {
   "cell_type": "code",
   "execution_count": 3,
   "id": "75ae214c",
   "metadata": {},
   "outputs": [],
   "source": [
    "import pandas as pd\n",
    "\n",
    "df = pd.DataFrame({'SUMMARY' : ['hello, world!', 'XXXXX test', '123four, five:; six...']})"
   ]
  },
  {
   "cell_type": "markdown",
   "id": "1e690f8d",
   "metadata": {},
   "source": [
    "In the above step, we have created a Dataframe. Now, To remove everything except words from the columns,lets use \n",
    "the str.replace() method in pandas.This is the code:"
   ]
  },
  {
   "cell_type": "code",
   "execution_count": 7,
   "id": "f2c5ff62",
   "metadata": {},
   "outputs": [],
   "source": [
    "df = df.replace('[^a-zA-Z ]', '', regex=True)"
   ]
  },
  {
   "cell_type": "markdown",
   "id": "41c268aa",
   "metadata": {},
   "source": [
    "Above code will remove all characters except alphabets and spaces from the columns. The resulting dataframe will be this:"
   ]
  },
  {
   "cell_type": "code",
   "execution_count": 8,
   "id": "01348726",
   "metadata": {},
   "outputs": [
    {
     "data": {
      "text/html": [
       "<div>\n",
       "<style scoped>\n",
       "    .dataframe tbody tr th:only-of-type {\n",
       "        vertical-align: middle;\n",
       "    }\n",
       "\n",
       "    .dataframe tbody tr th {\n",
       "        vertical-align: top;\n",
       "    }\n",
       "\n",
       "    .dataframe thead th {\n",
       "        text-align: right;\n",
       "    }\n",
       "</style>\n",
       "<table border=\"1\" class=\"dataframe\">\n",
       "  <thead>\n",
       "    <tr style=\"text-align: right;\">\n",
       "      <th></th>\n",
       "      <th>SUMMARY</th>\n",
       "    </tr>\n",
       "  </thead>\n",
       "  <tbody>\n",
       "    <tr>\n",
       "      <th>0</th>\n",
       "      <td>hello world</td>\n",
       "    </tr>\n",
       "    <tr>\n",
       "      <th>1</th>\n",
       "      <td>XXXXX test</td>\n",
       "    </tr>\n",
       "    <tr>\n",
       "      <th>2</th>\n",
       "      <td>four five six</td>\n",
       "    </tr>\n",
       "  </tbody>\n",
       "</table>\n",
       "</div>"
      ],
      "text/plain": [
       "         SUMMARY\n",
       "0    hello world\n",
       "1     XXXXX test\n",
       "2  four five six"
      ]
     },
     "execution_count": 8,
     "metadata": {},
     "output_type": "execute_result"
    }
   ],
   "source": [
    "df"
   ]
  },
  {
   "cell_type": "markdown",
   "id": "fbca0ee0",
   "metadata": {},
   "source": [
    "# Question 3- Create a function in python to find all words that are at least 4 characters long in a string. The use of the re.compile() method is mandatory."
   ]
  },
  {
   "cell_type": "code",
   "execution_count": 10,
   "id": "972f68c5",
   "metadata": {},
   "outputs": [],
   "source": [
    "import re\n",
    "\n",
    "def find_words(string):\n",
    "    pattern = re.compile(r'\\b\\w{4,}\\b')\n",
    "    return pattern.findall(string)"
   ]
  },
  {
   "cell_type": "markdown",
   "id": "e97be3dc",
   "metadata": {},
   "source": [
    "We can see in above code, re.compile() method is used to compile the regular expression pattern \\b\\w{4,}\\b which matches all words that are at least 4 characters long. The findall() method is then used to find all the matches in the given string."
   ]
  },
  {
   "cell_type": "markdown",
   "id": "5db156ea",
   "metadata": {},
   "source": [
    "# Question 4- Create a function in python to find all three, four, and five character words in a string. The use of the re.compile() method is mandatory."
   ]
  },
  {
   "cell_type": "code",
   "execution_count": 12,
   "id": "5b39afb9",
   "metadata": {},
   "outputs": [],
   "source": [
    "import re\n",
    "\n",
    "def find_words(string):\n",
    "    pattern = re.compile(r'\\b\\w{3,5}\\b')\n",
    "    return pattern.findall(string)"
   ]
  },
  {
   "cell_type": "markdown",
   "id": "7f43a47b",
   "metadata": {},
   "source": [
    "Above , the re.compile() method is used to compile a regular expression pattern into a regular expression object. The r before the string indicates that it is a raw string, which means that backslashes are treated as literal backslashes instead of escape characters.\n",
    "  And the pattern variable is created by compiling the regular expression \\b\\w{3,5}\\b. This pattern matches any word that is between three and five characters long.\n",
    "  And, the findall() method is then called on the pattern object to find all occurrences of the pattern in the input string."
   ]
  },
  {
   "cell_type": "markdown",
   "id": "7b0e7e80",
   "metadata": {},
   "source": [
    "# Question 5- Create a function in Python to remove the parenthesis in a list of strings. The use of the re.compile() method is mandatory.\n",
    "Sample Text: [\"example (.com)\", \"hr@fliprobo (.com)\", \"github (.com)\", \"Hello (Data Science World)\", \"Data (Scientist)\"]\n"
   ]
  },
  {
   "cell_type": "code",
   "execution_count": null,
   "id": "8b54dec1",
   "metadata": {},
   "outputs": [],
   "source": [
    "This is the Python function that removes the parentheses in a list of strings using the re.compile() method:"
   ]
  },
  {
   "cell_type": "code",
   "execution_count": 14,
   "id": "325d76f7",
   "metadata": {},
   "outputs": [],
   "source": [
    "import re\n",
    "\n",
    "def remove_parenthesis(lst):\n",
    "    pattern = re.compile(r'\\([^)]*\\)')\n",
    "    return [pattern.sub('', string) for string in lst]"
   ]
  },
  {
   "cell_type": "code",
   "execution_count": 17,
   "id": "8fb5cfbc",
   "metadata": {},
   "outputs": [
    {
     "name": "stdout",
     "output_type": "stream",
     "text": [
      "['example ', 'hr@fliprobo ', 'github ', 'Hello ', 'Data ']\n"
     ]
    }
   ],
   "source": [
    "sample_text = [\"example (.com)\", \"hr@fliprobo (.com)\", \"github (.com)\", \"Hello (Data Science World)\", \"Data (Scientist)\"]\n",
    "result = remove_parenthesis(sample_text)\n",
    "print(result)"
   ]
  },
  {
   "cell_type": "markdown",
   "id": "3893b623",
   "metadata": {},
   "source": [
    "# Question 6- Write a python program to remove the parenthesis area from the text stored in the text file using Regular Expression.\n",
    "Sample Text: [\"example (.com)\", \"hr@fliprobo (.com)\", \"github (.com)\", \"Hello (Data Science World)\", \"Data (Scientist)\"]\n"
   ]
  },
  {
   "cell_type": "markdown",
   "id": "e4c1b60c",
   "metadata": {},
   "source": [
    " This is the Python program that removes the parenthesis area from the text stored in the text file using regular expressions:"
   ]
  },
  {
   "cell_type": "code",
   "execution_count": null,
   "id": "6e71a37f",
   "metadata": {},
   "outputs": [],
   "source": [
    "import re\n",
    "\n",
    "with open('filename.txt', 'r') as f:\n",
    "    text = f.read()\n",
    "\n",
    "text = re.sub(r'\\([^)]*\\)', '', text)\n",
    "\n",
    "with open('filename.txt', 'w') as f:\n",
    "    f.write(text)"
   ]
  },
  {
   "cell_type": "markdown",
   "id": "357eccc8",
   "metadata": {},
   "source": [
    "#we first open the text file and read its contents into the text variable. We then use the re.sub() function to remove all \n",
    "text within parentheses from the text variable. Finally, we write the modified text variable back to the same file."
   ]
  },
  {
   "cell_type": "markdown",
   "id": "25bd5572",
   "metadata": {},
   "source": [
    "# QUES 7- Write a regular expression in Python to split a string into uppercase letters.\n",
    "Sample text: “ImportanceOfRegularExpressionsInPython”\n"
   ]
  },
  {
   "cell_type": "code",
   "execution_count": 21,
   "id": "ad4db0c1",
   "metadata": {},
   "outputs": [
    {
     "name": "stdout",
     "output_type": "stream",
     "text": [
      "['Importance', 'Of', 'Regular', 'Expressions', 'In', 'Python']\n"
     ]
    }
   ],
   "source": [
    "import re\n",
    "\n",
    "sample_text = \"ImportanceOfRegularExpressionsInPython\"\n",
    "result = re.findall('[A-Z][^A-Z]*', sample_text)\n",
    "print(result)"
   ]
  },
  {
   "cell_type": "markdown",
   "id": "387dd82d",
   "metadata": {},
   "source": [
    "# QUESTION 8- Create a function in python to insert spaces between words starting with numbers.\n",
    "Sample Text: “RegularExpression1IsAn2ImportantTopic3InPython\"    \n",
    "\n",
    "     Expected Output: RegularExpression 1IsAn 2ImportantTopic 3InPython\n"
   ]
  },
  {
   "cell_type": "code",
   "execution_count": 22,
   "id": "cb751c29",
   "metadata": {},
   "outputs": [
    {
     "name": "stdout",
     "output_type": "stream",
     "text": [
      "RegularExpression1 IsAn2 ImportantTopic3 InPython\n"
     ]
    }
   ],
   "source": [
    "import re\n",
    "\n",
    "def insert_space(text: str) -> str:\n",
    "    return re.sub(r'(?<=\\d)(?=\\D)', ' ', text)\n",
    "\n",
    "text = \"RegularExpression1IsAn2ImportantTopic3InPython\"\n",
    "print(insert_space(text))"
   ]
  },
  {
   "cell_type": "markdown",
   "id": "9908b6ae",
   "metadata": {},
   "source": [
    "In the above python function, \n",
    "The insert_space function uses the re.sub method to replace the pattern (?<=\\d)(?=\\D) with a space. The pattern matches any\n",
    "position that is preceded by a digit and followed by a non-digit character. The (?<=\\d) is a positive lookbehind assertion that\n",
    "matches any position that is immediately preceded by a digit. The (?=\\D) is a positive lookahead assertion that matches any \n",
    "position that is immediately followed by a non-digit character."
   ]
  },
  {
   "cell_type": "markdown",
   "id": "1c01619b",
   "metadata": {},
   "source": [
    "# Question 9- Create a function in python to insert spaces between words starting with capital letters or with numbers.\n",
    "Sample Text: “RegularExpression1IsAn2ImportantTopic3InPython\"\n"
   ]
  },
  {
   "cell_type": "code",
   "execution_count": 23,
   "id": "6872fac0",
   "metadata": {},
   "outputs": [
    {
     "name": "stdout",
     "output_type": "stream",
     "text": [
      "Regular Expression 1Is An 2Important Topic 3In Python\n"
     ]
    }
   ],
   "source": [
    "import re\n",
    "\n",
    "def insert_spaces(text: str) -> str:\n",
    "    return re.sub(r'(?<=[a-z])(?=[A-Z0-9])', ' ', text)\n",
    "\n",
    "text = \"RegularExpression1IsAn2ImportantTopic3InPython\"\n",
    "print(insert_spaces(text))"
   ]
  },
  {
   "cell_type": "markdown",
   "id": "b0caaf88",
   "metadata": {},
   "source": [
    "In above python function, insert_spaces function uses the re.sub method to replace the pattern (?<=[a-z])(?=[A-Z0-9]) with a space. This pattern matches\n",
    "any position that is immediately preceded by a lowercase letter and immediately followed by an uppercase letter or a digit.\n",
    "The (?<=...) and (?=...) are called lookbehind and lookahead assertions, respectively, and they allow us to match without \n",
    "consuming any characters."
   ]
  },
  {
   "cell_type": "markdown",
   "id": "faa44583",
   "metadata": {},
   "source": [
    "# Question 11- Write a Python program to match a string that contains only upper and lowercase letters, numbers, and underscores."
   ]
  },
  {
   "cell_type": "markdown",
   "id": "7c0f8c6a",
   "metadata": {},
   "source": [
    "Written below is the Python program that uses regular expressions to match a string that contains only upper and lowercase \n",
    "letters, numbers, and underscores:"
   ]
  },
  {
   "cell_type": "code",
   "execution_count": 24,
   "id": "de5d6aaf",
   "metadata": {},
   "outputs": [
    {
     "name": "stdout",
     "output_type": "stream",
     "text": [
      "The string contains only upper and lowercase letters, numbers, and underscores.\n",
      "The string does not contain only upper and lowercase letters, numbers, and underscores.\n"
     ]
    }
   ],
   "source": [
    "import re\n",
    "\n",
    "def match_string(text):\n",
    "    pattern = r'^[a-zA-Z0-9_]*$'\n",
    "    if re.search(pattern, text):\n",
    "        return 'The string contains only upper and lowercase letters, numbers, and underscores.'\n",
    "    else:\n",
    "        return 'The string does not contain only upper and lowercase letters, numbers, and underscores.'\n",
    "\n",
    "print(match_string('Hello_World_123'))  # The string contains only upper and lowercase letters, numbers, and underscores.\n",
    "print(match_string('Hello World 123'))  # The string does not contain only upper and lowercase letters, numbers, and underscores."
   ]
  },
  {
   "cell_type": "markdown",
   "id": "43d0abc2",
   "metadata": {},
   "source": [
    "# Question 12- Write a Python program where a string will start with a specific number. "
   ]
  },
  {
   "cell_type": "code",
   "execution_count": 25,
   "id": "d1c0916d",
   "metadata": {},
   "outputs": [
    {
     "name": "stdout",
     "output_type": "stream",
     "text": [
      "True\n",
      "False\n"
     ]
    }
   ],
   "source": [
    "import re\n",
    "\n",
    "def match_num(string):\n",
    "    text = re.compile(r\"^5\")\n",
    "    if text.match(string):\n",
    "        return True\n",
    "    else:\n",
    "        return False\n",
    "\n",
    "print(match_num('5-2345861'))\n",
    "print(match_num('6-2345861'))"
   ]
  },
  {
   "cell_type": "markdown",
   "id": "05fa113d",
   "metadata": {},
   "source": [
    "Here, the match_num function takes a string as input and returns True if the string starts with the number 5.\n",
    "Otherwise, it returns False. The re.compile method is used to create a regular expression pattern that matches strings\n",
    "starting with 5. The ^ character in the pattern indicates the start of the string."
   ]
  },
  {
   "cell_type": "markdown",
   "id": "055ad833",
   "metadata": {},
   "source": [
    "# Question 13- Write a Python program to remove leading zeros from an IP address"
   ]
  },
  {
   "cell_type": "code",
   "execution_count": 26,
   "id": "4c66e7ba",
   "metadata": {},
   "outputs": [],
   "source": [
    "import re\n",
    "\n",
    "def remove_leading_zeros(ip_address: str) -> str:\n",
    "    \"\"\"\n",
    "    Removes leading zeros from an IP address.\n",
    "\n",
    "    Args:\n",
    "    ip_address (str): IP address with leading zeros.\n",
    "\n",
    "    Returns:\n",
    "    str: IP address without leading zeros.\n",
    "    \"\"\"\n",
    "    # Split the IP address into octets and convert each octet to an integer.\n",
    "    octets = [int(octet) for octet in ip_address.split(\".\")]\n",
    "\n",
    "    # Convert each octet back to a string and remove leading zeros.\n",
    "    octets = [str(octet).lstrip(\"0\") for octet in octets]\n",
    "\n",
    "    # Join the octets back together with periods.\n",
    "    return \".\".join(octets)"
   ]
  },
  {
   "cell_type": "code",
   "execution_count": 27,
   "id": "83b081c1",
   "metadata": {},
   "outputs": [
    {
     "name": "stdout",
     "output_type": "stream",
     "text": [
      "10.20.30.40\n"
     ]
    }
   ],
   "source": [
    "ip_address = \"010.020.030.040\"\n",
    "print(remove_leading_zeros(ip_address))"
   ]
  },
  {
   "cell_type": "markdown",
   "id": "dad8d2a8",
   "metadata": {},
   "source": [
    "The above program works by splitting the IP address into octets, converting each octet to an integer, then back to a string, and \n",
    "finally removing any leading zeros. The octets are then joined back together with periods to form the new IP address."
   ]
  },
  {
   "cell_type": "markdown",
   "id": "430ddfbb",
   "metadata": {},
   "source": [
    "# Question 14- Write a regular expression in python to match a date string in the form of Month name followed by day number and year stored in a text file.\n",
    "Sample text :  ' On August 15th 1947 that India was declared independent from British colonialism, and the reins of control were handed over to the leaders of the Country’.\n"
   ]
  },
  {
   "cell_type": "code",
   "execution_count": 28,
   "id": "5fef1bf0",
   "metadata": {},
   "outputs": [
    {
     "name": "stdout",
     "output_type": "stream",
     "text": [
      "Match found: August 15th 1947\n"
     ]
    }
   ],
   "source": [
    "import re\n",
    "\n",
    "text = \"On August 15th 1947 that India was declared independent from British colonialism, and the reins of control were handed over to the leaders of the Country.\"\n",
    "date_regex = r\"(January|February|March|April|May|June|July|August|September|October|November|December)\\s\\d{1,2}(st|nd|rd|th)\\s\\d{4}\"\n",
    "match = re.search(date_regex, text)\n",
    "\n",
    "if match:\n",
    "    print(f\"Match found: {match.group()}\")\n",
    "else:\n",
    "    print(\"No match found.\")\n"
   ]
  },
  {
   "cell_type": "markdown",
   "id": "d0bd8ccf",
   "metadata": {},
   "source": [
    "The above regular expression code uses the re module to search for a date string in the form of Month name followed by day\n",
    "number and year in the given text file. \n",
    "The regular expression:\n",
    "r\"(January|February|March|April|May|June|July|August|September|October|November|December)\\s\\d{1,2}(st|nd|rd|th)\\s\\d{4}\" \n",
    "matches the month name, day number, and year in the given format. The search() method of the re module is used to search for\n",
    "the regular expression in the given text file. If a match is found, the code prints the matched string. Otherwise, it prints\n",
    "“No match found.”.\n"
   ]
  },
  {
   "cell_type": "markdown",
   "id": "ed627b98",
   "metadata": {},
   "source": [
    "# Question 15- Write a Python program to search some literals strings in a string. \n",
    "Sample text : 'The quick brown fox jumps over the lazy dog.'\n"
   ]
  },
  {
   "cell_type": "code",
   "execution_count": 29,
   "id": "0dd4c1fb",
   "metadata": {},
   "outputs": [
    {
     "name": "stdout",
     "output_type": "stream",
     "text": [
      "Found 'fox' in 'The quick brown fox jumps over the lazy dog.'.\n",
      "Found 'dog' in 'The quick brown fox jumps over the lazy dog.'.\n"
     ]
    }
   ],
   "source": [
    "import re\n",
    "\n",
    "patterns = ['fox', 'dog']\n",
    "text = 'The quick brown fox jumps over the lazy dog.'\n",
    "\n",
    "for pattern in patterns:\n",
    "    if re.search(pattern, text):\n",
    "        print(f\"Found '{pattern}' in '{text}'.\")\n",
    "    else:\n",
    "        print(f\"'{pattern}' not found in '{text}'.\")"
   ]
  },
  {
   "cell_type": "markdown",
   "id": "f0dd2993",
   "metadata": {},
   "source": [
    "we first import the re module which provides support for regular expressions. We then define a list of patterns to search \n",
    "for within the text string. Finally, we loop through each pattern and use the re.search() function to determine if the pattern\n",
    "is present in the string. If it is, we print a message indicating that the pattern was found along with the original string.\n",
    "Otherwise, we print a message indicating that the pattern was not found."
   ]
  },
  {
   "cell_type": "markdown",
   "id": "eddfc5e4",
   "metadata": {},
   "source": [
    "# Question 16- Write a Python program to search a literals string in a string and also find the location within the original string where the pattern occurs\n",
    "Sample text : 'The quick brown fox jumps over the lazy dog.'\n",
    "Searched words : 'fox'\n"
   ]
  },
  {
   "cell_type": "code",
   "execution_count": 31,
   "id": "912f7012",
   "metadata": {},
   "outputs": [
    {
     "name": "stdout",
     "output_type": "stream",
     "text": [
      "Found \"fox\" in \"The quick brown fox jumps over the lazy dog.\" from 16 to 19\n"
     ]
    }
   ],
   "source": [
    "import re\n",
    "\n",
    "pattern = 'fox'\n",
    "text = 'The quick brown fox jumps over the lazy dog.'\n",
    "match = re.search(pattern, text)\n",
    "s = match.start()\n",
    "e = match.end()\n",
    "\n",
    "print(f\"Found \\\"{pattern}\\\" in \\\"{text}\\\" from {s} to {e}\")"
   ]
  },
  {
   "cell_type": "markdown",
   "id": "8a723b8f",
   "metadata": {},
   "source": [
    "we use the re module to search for the pattern fox in the string text. The search() method returns a match object if the \n",
    "pattern is found, which we then use to get the start and end positions of the pattern in the original string. Finally, we\n",
    "print out the result using an f-string."
   ]
  },
  {
   "cell_type": "code",
   "execution_count": null,
   "id": "da7a8add",
   "metadata": {},
   "outputs": [],
   "source": []
  }
 ],
 "metadata": {
  "kernelspec": {
   "display_name": "Python 3 (ipykernel)",
   "language": "python",
   "name": "python3"
  },
  "language_info": {
   "codemirror_mode": {
    "name": "ipython",
    "version": 3
   },
   "file_extension": ".py",
   "mimetype": "text/x-python",
   "name": "python",
   "nbconvert_exporter": "python",
   "pygments_lexer": "ipython3",
   "version": "3.9.13"
  }
 },
 "nbformat": 4,
 "nbformat_minor": 5
}
